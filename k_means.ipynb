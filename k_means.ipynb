{
 "cells": [
  {
   "cell_type": "code",
   "execution_count": null,
   "metadata": {},
   "outputs": [],
   "source": [
    "import numpy as np\n",
    "import pandas as pd\n",
    "import matplotlib.pyplot as plt\n",
    "import math"
   ]
  },
  {
   "cell_type": "code",
   "execution_count": null,
   "metadata": {},
   "outputs": [],
   "source": [
    "def KMeans(df, k, iter):\n",
    "    data = df.iloc[:, [1, 2, 3, 4, 5]].values\n",
    "    centroid = []\n",
    "    clusters = {}\n",
    "\n",
    "    for i in range(k):\n",
    "        clusters[i] = []\n",
    "        centroid.append(data[i][:4])\n",
    "\n",
    "    while iter > 0:\n",
    "        iter -= 1\n",
    "        for i in range(k):\n",
    "            clusters[i] = []\n",
    "\n",
    "        for row in data:\n",
    "            dist = []\n",
    "            for i in range(k):\n",
    "                norm = np.linalg.norm(row[:4]-centroid[i][:4])\n",
    "                dist.append(norm)\n",
    "\n",
    "            clusters[dist.index(min(dist))].append(list(row))\n",
    "\n",
    "        for i in range(k):\n",
    "            temp = list(map(lambda x: x[:4], clusters[i]))\n",
    "            centroid[i] = np.average(temp, axis=0)\n",
    "\n",
    "    return clusters, centroid\n",
    "\n"
   ]
  },
  {
   "cell_type": "code",
   "execution_count": null,
   "metadata": {},
   "outputs": [],
   "source": []
  }
 ],
 "metadata": {
  "kernelspec": {
   "display_name": "Python 3.9.5 64-bit",
   "language": "python",
   "name": "python3"
  },
  "language_info": {
   "name": "python",
   "version": "3.9.5"
  },
  "orig_nbformat": 4,
  "vscode": {
   "interpreter": {
    "hash": "ac8b49c01ab7af0b357bca5a8ac24075f319d93591e15d55d4394ceee65b2dae"
   }
  }
 },
 "nbformat": 4,
 "nbformat_minor": 2
}
