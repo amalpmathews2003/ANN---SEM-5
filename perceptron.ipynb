{
 "cells": [
  {
   "cell_type": "markdown",
   "metadata": {},
   "source": [
    "# Perceptron Algorithm\n",
    "\n",
    "\n",
    "```\n",
    "\n",
    "```\n",
    "***************************************************"
   ]
  },
  {
   "cell_type": "code",
   "execution_count": 6,
   "metadata": {},
   "outputs": [],
   "source": [
    "import pandas as pd\n",
    "import numpy as np\n",
    "from matplotlib import pyplot as plt\n",
    "import warnings\n",
    "warnings.filterwarnings(\"ignore\")"
   ]
  },
  {
   "cell_type": "code",
   "execution_count": 2,
   "metadata": {},
   "outputs": [],
   "source": [
    "def activation(x):\n",
    "    return 1.0 if x >= 0 else 0.0"
   ]
  },
  {
   "cell_type": "code",
   "execution_count": 3,
   "metadata": {},
   "outputs": [],
   "source": [
    "def update_weight(w, learning_rate, target, output, x=1):\n",
    "    return w + learning_rate * (target - output)*x"
   ]
  },
  {
   "cell_type": "code",
   "execution_count": 4,
   "metadata": {},
   "outputs": [],
   "source": [
    "\n",
    "def train_perceptron(traing_data, testing_data, eta, epochs):\n",
    "\n",
    "    w1 = np.random.rand()*np.random.randint(low=-1, high=1)\n",
    "    w2 = np.random.rand()*np.random.randint(low=-1, high=1)\n",
    "    b = np.random.rand()*np.random.randint(low=-1, high=1)\n",
    "\n",
    "    # iter = 0\n",
    "    flag = True\n",
    "    while flag:\n",
    "        # iter += 1\n",
    "        flag = False\n",
    "        for row in traing_data.iterrows():\n",
    "\n",
    "            output = activation(w1*row[1]['x1']+w2*row[1]['x2']+b)\n",
    "\n",
    "            target = row[1]['y']\n",
    "            w1 = update_weight(w1, eta, target, output,\n",
    "                               row[1]['x1'])\n",
    "            w2 = update_weight(w2, eta, target, output, row[1]['x2'])\n",
    "            b = update_weight(b, eta, target, output)\n",
    "            # print(target, output)\n",
    "            if target != output:\n",
    "                flag = True\n",
    "\n",
    "    print(f\"Final weights: {w1}, {w2}, {b}\")\n",
    "\n",
    "    for row in testing_data.iterrows():\n",
    "        output = activation(w1*row[1]['x1']+w2*row[1]['x2']+b)\n",
    "        print(f\"output: {output}, target: {row[1]['y']}\")\n",
    "\n",
    "    return w1, w2, b\n"
   ]
  },
  {
   "cell_type": "code",
   "execution_count": 7,
   "metadata": {},
   "outputs": [
    {
     "name": "stdout",
     "output_type": "stream",
     "text": [
      "Final weights: 0.16719310180491942, 0.23500000000000024, -0.30000000000000004\n",
      "output: 0.0, target: 0.0\n",
      "output: 1.0, target: 1.0\n"
     ]
    },
    {
     "data": {
      "image/png": "[encoded data removed]",
      "text/plain": [
       "<Figure size 432x288 with 1 Axes>"
      ]
     },
     "metadata": {
      "needs_background": "light"
     },
     "output_type": "display_data"
    }
   ],
   "source": [
    "data = pd.read_csv('./perceptron.csv')\n",
    "traing_data = data[:6]\n",
    "testing_data = data[6:]\n",
    "\n",
    "\n",
    "\n",
    "eta = 0.1\n",
    "epoch = 100\n",
    "\n",
    "w1, w2, b = train_perceptron(traing_data, testing_data, eta, epoch)\n",
    "\n",
    "\n",
    "plt.scatter(traing_data[traing_data['y'] == 0]['x1'], traing_data[traing_data['y'] == 0]['x2'])\n",
    "plt.scatter(traing_data[traing_data['y'] == 1]['x1'], traing_data[traing_data['y'] == 1]['x2'])\n",
    "plt.scatter(testing_data[testing_data['y'] == 0]['x1'], testing_data[testing_data['y'] == 0]['x2'])\n",
    "plt.scatter(testing_data[testing_data['y'] == 1]['x1'], testing_data[testing_data['y'] == 1]['x2'])\n",
    "\n",
    "linex = np.linspace(0.4, 2, 50)\n",
    "liney = (-w1/w2)*linex-(b/w2)\n",
    "\n",
    "plt.plot(linex, liney)\n",
    "\n",
    "plt.show()\n"
   ]
  }
 ],
 "metadata": {
  "kernelspec": {
   "display_name": "Python 3.9.5 64-bit",
   "language": "python",
   "name": "python3"
  },
  "language_info": {
   "codemirror_mode": {
    "name": "ipython",
    "version": 3
   },
   "file_extension": ".py",
   "mimetype": "text/x-python",
   "name": "python",
   "nbconvert_exporter": "python",
   "pygments_lexer": "ipython3",
   "version": "3.9.5"
  },
  "orig_nbformat": 4,
  "vscode": {
   "interpreter": {
    "hash": "ac8b49c01ab7af0b357bca5a8ac24075f319d93591e15d55d4394ceee65b2dae"
   }
  }
 },
 "nbformat": 4,
 "nbformat_minor": 2
}
