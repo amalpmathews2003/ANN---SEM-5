{
 "cells": [
  {
   "cell_type": "code",
   "execution_count": null,
   "metadata": {},
   "outputs": [],
   "source": [
    "import pandas as pd\n",
    "import numpy as np\n",
    "import warnings\n",
    "warnings.filterwarnings(\"ignore\")\n"
   ]
  },
  {
   "cell_type": "code",
   "execution_count": null,
   "metadata": {},
   "outputs": [],
   "source": [
    "data = pd.read_csv('./perceptron.csv')\n",
    "traing_data = data[:6]\n",
    "testing_data = data[6:]\n",
    "\n",
    "eta = 0.1\n"
   ]
  },
  {
   "cell_type": "code",
   "execution_count": null,
   "metadata": {},
   "outputs": [],
   "source": [
    "def activation(x):\n",
    "    return 1 if x >= 0 else 0\n"
   ]
  },
  {
   "cell_type": "code",
   "execution_count": null,
   "metadata": {},
   "outputs": [],
   "source": [
    "def update_weight(w, learning_rate, target, output):\n",
    "    return w + learning_rate * (target - output)\n"
   ]
  },
  {
   "cell_type": "code",
   "execution_count": null,
   "metadata": {},
   "outputs": [],
   "source": [
    "w1 = np.random.uniform(-1, 1)\n",
    "w2 = np.random.uniform(-1, 1)\n",
    "b = np.random.uniform(-1, 1)\n",
    "\n",
    "print(w1,w2)\n",
    "\n",
    "\n",
    "iter = 0\n",
    "max_iter = 100\n",
    "while iter <= max_iter:\n",
    "    iter += 1\n",
    "    for row in traing_data.iterrows():\n",
    "\n",
    "        output = activation(w1*row[1]['x1']+w2*row[1]['x2']+b)\n",
    "\n",
    "        target = row[1]['y']\n",
    "\n",
    "        w1 = update_weight(w1, eta, target, output)\n",
    "        w2 = update_weight(w1, eta, target, output)\n",
    "\n",
    "\n",
    "\n",
    "print(w1,w2)\n",
    "\n",
    "\n",
    "for row in testing_data.iterrows():\n",
    "    output = activation(w1*row[1]['x1']+w2*row[1]['x2']+b)\n",
    "    print(f\"output: {output}, target: {row[1]['y']}\")\n",
    "\n"
   ]
  },
  {
   "cell_type": "code",
   "execution_count": null,
   "metadata": {},
   "outputs": [],
   "source": []
  }
 ],
 "metadata": {
  "kernelspec": {
   "display_name": "Python 3.9.5 64-bit",
   "language": "python",
   "name": "python3"
  },
  "language_info": {
   "codemirror_mode": {
    "name": "ipython",
    "version": 3
   },
   "file_extension": ".py",
   "mimetype": "text/x-python",
   "name": "python",
   "nbconvert_exporter": "python",
   "pygments_lexer": "ipython3",
   "version": "3.9.5"
  },
  "orig_nbformat": 4,
  "vscode": {
   "interpreter": {
    "hash": "ac8b49c01ab7af0b357bca5a8ac24075f319d93591e15d55d4394ceee65b2dae"
   }
  }
 },
 "nbformat": 4,
 "nbformat_minor": 2
}
