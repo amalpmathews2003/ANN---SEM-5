{
 "cells": [
  {
   "cell_type": "code",
   "execution_count": null,
   "metadata": {},
   "outputs": [],
   "source": [
    "  import math\n",
    "  import matplotlib.pyplot as plt\n",
    "  import numpy as np"
   ]
  },
  {
   "cell_type": "code",
   "execution_count": null,
   "metadata": {},
   "outputs": [],
   "source": [
    "def sinc(x):\n",
    "    if x == 0:\n",
    "        return 1\n",
    "    else:\n",
    "        return math.sin(x)/x"
   ]
  },
  {
   "cell_type": "code",
   "execution_count": null,
   "metadata": {},
   "outputs": [],
   "source": [
    "l=-10\n",
    "r=10\n",
    "step=0.1\n",
    "\n",
    "\n",
    "input=[]\n",
    "output=[]\n",
    "while l<=r:\n",
    "  input.append(l)\n",
    "  output.append(sinc(l))\n",
    "  l+=step \n",
    "\n",
    "input=np.array(input)\n",
    "output=np.array(output)\n",
    "\n",
    "plt.plot(input,output)"
   ]
  },
  {
   "cell_type": "code",
   "execution_count": null,
   "metadata": {},
   "outputs": [],
   "source": [
    "def tansig(x):\n",
    "    return 2/(1+math.exp(-2*x))-1\n"
   ]
  },
  {
   "cell_type": "code",
   "execution_count": null,
   "metadata": {},
   "outputs": [],
   "source": [
    "w=np.random.uniform(low=-10,high=10,size=(201,))\n",
    "x=np.random.uniform(low=-10,high=10,size=(201,))\n",
    "b=np.random.uniform(low=-10,high=10,size=(201,))\n",
    "sum=w*x+b\n",
    "\n",
    "out=np.array(list(map(tansig,sum)))\n",
    "h=[np.transpose(out)]\n",
    "h=np.array(h)\n",
    "h_inv=np.linalg.pinv(h)\n",
    "b_new=h_inv*output\n",
    "print(h_inv.shape)\n",
    "print(output.shape)\n",
    "# b_new=b_new[0]\n",
    "# print(b_new.shape)"
   ]
  }
 ],
 "metadata": {
  "kernelspec": {
   "display_name": "Python 3.9.5 64-bit",
   "language": "python",
   "name": "python3"
  },
  "language_info": {
   "codemirror_mode": {
    "name": "ipython",
    "version": 3
   },
   "file_extension": ".py",
   "mimetype": "text/x-python",
   "name": "python",
   "nbconvert_exporter": "python",
   "pygments_lexer": "ipython3",
   "version": "3.9.5"
  },
  "orig_nbformat": 4,
  "vscode": {
   "interpreter": {
    "hash": "ac8b49c01ab7af0b357bca5a8ac24075f319d93591e15d55d4394ceee65b2dae"
   }
  }
 },
 "nbformat": 4,
 "nbformat_minor": 2
}
