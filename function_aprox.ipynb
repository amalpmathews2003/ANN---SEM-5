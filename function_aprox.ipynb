{
 "cells": [
  {
   "cell_type": "markdown",
   "metadata": {},
   "source": [
    "# Function Approximation\n",
    "\n",
    "### Radial Basis Function Network\n",
    "\n",
    "```\n",
    "\n",
    "```\n",
    "***************************************************"
   ]
  },
  {
   "cell_type": "code",
   "execution_count": 1,
   "metadata": {},
   "outputs": [],
   "source": [
    "import numpy as np\n",
    "from matplotlib import pyplot as plt\n"
   ]
  },
  {
   "cell_type": "code",
   "execution_count": 2,
   "metadata": {},
   "outputs": [],
   "source": [
    "def KMeans(X, k):\n",
    "    clustors = np.random.choice(np.squeeze(X), k)\n",
    "    prevClustors = clustors.copy()\n",
    "    stds = np.zeros(k)\n",
    "    converged = False\n",
    "\n",
    "    while not converged:\n",
    "        dist = np.squeeze(np.abs(X[:, np.newaxis]-clustors[np.newaxis, :]))\n",
    "        closestClustor = np.argmin(dist, axis=1)\n",
    "\n",
    "        for i in range(k):\n",
    "            pointsForClustor = X[closestClustor == i]\n",
    "            if len(pointsForClustor) > 0:\n",
    "                clustors[i] = np.mean(pointsForClustor, axis=0)\n",
    "\n",
    "        converged = np.linalg.norm(clustors-prevClustors) < 1e-6\n",
    "        prevClustors = clustors.copy()\n",
    "\n",
    "    dist = np.squeeze(np.abs(X[:, np.newaxis]-clustors[np.newaxis, :]))\n",
    "    closestClustor = np.argmin(dist, axis=1)\n",
    "\n",
    "    clustorsWithNoPoints = []\n",
    "    for i in range(k):\n",
    "        pointsForClustor = X[closestClustor == i]\n",
    "        if len(pointsForClustor) == 2:\n",
    "            clustorsWithNoPoints.append(i)\n",
    "        else:\n",
    "            stds[i] = np.std(pointsForClustor)\n",
    "\n",
    "    if len(clustorsWithNoPoints) > 0:\n",
    "        pointsToAverage = []\n",
    "        for i in range(k):\n",
    "            if i not in clustorsWithNoPoints:\n",
    "                pointsToAverage.append(X[closestClustor == i])\n",
    "\n",
    "        pointsToAverage = np.concatenate(pointsToAverage).ravel()\n",
    "        stds[clustorsWithNoPoints] = np.mean(np.std(pointsToAverage))\n",
    "\n",
    "    return clustors, stds\n",
    "\n",
    "\n"
   ]
  },
  {
   "cell_type": "code",
   "execution_count": null,
   "metadata": {},
   "outputs": [],
   "source": [
    "l=-10\n",
    "r=10\n",
    "step=0.1\n",
    "\n",
    "\n",
    "input=[]\n",
    "output=[]\n",
    "while l<=r:\n",
    "  input.append(l)\n",
    "  output.append(sinc(l))\n",
    "  l+=step \n",
    "\n",
    "input=np.array(input)\n",
    "output=np.array(output)\n",
    "\n",
    "plt.plot(input,output)"
   ]
  },
  {
   "cell_type": "code",
   "execution_count": 3,
   "metadata": {},
   "outputs": [],
   "source": [
    "def rbf(x, c, s):\n",
    "    return np.exp(-np.power(x-c, 2)/(2*np.power(s, 2)))\n"
   ]
  },
  {
   "cell_type": "code",
   "execution_count": 6,
   "metadata": {},
   "outputs": [],
   "source": [
    "class RBF(object):\n",
    "    def __init__(self, k=2, lr=0.01, epochs=100, inferStds=True, rbf=rbf):\n",
    "        self.k = k\n",
    "        self.lr = lr\n",
    "        self.epochs = epochs\n",
    "        self.inferStds = inferStds\n",
    "        self.rbf = rbf\n",
    "        self.w = np.random.randn(k)\n",
    "        self.b = np.random.randn(1)\n",
    "\n",
    "    def fit(self, X, Y):\n",
    "        if self.inferStds:\n",
    "            self.centers, self.stds = KMeans(X, self.k)\n",
    "        else:\n",
    "            self.centers = KMeans(X, self.k)\n",
    "            dMax = max([np.abs(c1-c2)\n",
    "                       for c1 in self.centers for c2 in self.centers])\n",
    "            self.stds = np.repeat(dMax/np.sqrt(2*self.k), self.k)\n",
    "\n",
    "        for epoch in range(self.epochs):\n",
    "            for i in range(X.shape[0]):\n",
    "                a = np.array([self.rbf(X[i], c, s)\n",
    "                             for c, s in zip(self.centers, self.stds)])\n",
    "                F = a.T.dot(self.w)+self.b\n",
    "\n",
    "                error = -(y[i]-F).flatten()\n",
    "                loss = error**2\n",
    "                # print(\"Loss: \", loss)\n",
    "\n",
    "\n",
    "                self.w = self.w-self.lr*a*error\n",
    "                self.b = self.b-self.lr*a*error\n",
    "\n",
    "    def predict(self, X):\n",
    "        y_pred = []\n",
    "        for i in range(X.shape[0]):\n",
    "            a = np.array([self.rbf(X[i], c, s) for c, s in zip(\n",
    "                self.centers, self.stds)])\n",
    "            F = a.T.dot(self.w)+self.b\n",
    "            y_pred.append(F)\n",
    "\n",
    "        return np.array(y_pred)\n"
   ]
  },
  {
   "cell_type": "code",
   "execution_count": 11,
   "metadata": {},
   "outputs": [
    {
     "data": {
      "image/png": "[encoded data removed]",
      "text/plain": [
       "<Figure size 432x288 with 1 Axes>"
      ]
     },
     "metadata": {
      "needs_background": "light"
     },
     "output_type": "display_data"
    }
   ],
   "source": [
    "NUM_SAMPLES = 1500\n",
    "X = np.random.uniform(-10, 10,  NUM_SAMPLES)\n",
    "X = np.sort(X, axis=0)\n",
    "noise = np.random.uniform(-0.2, 0.2)\n",
    "y = np.sinc(X)+noise\n",
    "plt.plot(X, y, '-o', label='True')\n",
    "\n",
    "rbfNet = RBF(lr=1e-2, k=3, epochs=10)\n",
    "rbfNet.fit(X, y)\n",
    "\n",
    "y_pred = rbfNet.predict(X)\n",
    "# print(y_pred)\n",
    "\n",
    "plt.plot(X, y_pred, '-o', label='Predicted')\n",
    "\n",
    "plt.legend()\n",
    "plt.tight_layout()\n",
    "plt.show()"
   ]
  }
 ],
 "metadata": {
  "kernelspec": {
   "display_name": "Python 3.9.5 64-bit",
   "language": "python",
   "name": "python3"
  },
  "language_info": {
   "codemirror_mode": {
    "name": "ipython",
    "version": 3
   },
   "file_extension": ".py",
   "mimetype": "text/x-python",
   "name": "python",
   "nbconvert_exporter": "python",
   "pygments_lexer": "ipython3",
   "version": "3.9.5"
  },
  "orig_nbformat": 4,
  "vscode": {
   "interpreter": {
    "hash": "ac8b49c01ab7af0b357bca5a8ac24075f319d93591e15d55d4394ceee65b2dae"
   }
  }
 },
 "nbformat": 4,
 "nbformat_minor": 2
}
