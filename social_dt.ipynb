{
 "cells": [
  {
   "cell_type": "markdown",
   "metadata": {},
   "source": [
    "# Particle Swarm Optimization\n",
    "\n",
    "### Finding the maximum of a function\n",
    "  \n",
    "  y=160-15*sin(x^2)^2-(x-2)^2"
   ]
  },
  {
   "cell_type": "code",
   "execution_count": 1,
   "metadata": {},
   "outputs": [],
   "source": [
    "import numpy as np\n",
    "import pandas as pd\n",
    "import matplotlib.pyplot as plt\n",
    "import math"
   ]
  },
  {
   "cell_type": "code",
   "execution_count": 2,
   "metadata": {},
   "outputs": [],
   "source": [
    "w = 0.8  \n",
    "c1 = 2\n",
    "c2 = 2\n",
    "n = 25\n",
    "r1 = np.random.uniform(0.3, 0.7, n)\n",
    "r2 = np.random.uniform(0.3, 0.7, n)\n"
   ]
  },
  {
   "cell_type": "code",
   "execution_count": 3,
   "metadata": {},
   "outputs": [],
   "source": [
    "Vx=[0]*n\n",
    "Vy=[0]*n\n",
    "\n",
    "global VxMax\n",
    "VxMax = 0\n",
    "\n",
    "personal_best_arr = []\n",
    "global_best = (1, 0)\n",
    "\n",
    "particles_arr = [(-10+20*np.random.randint(1, 30), 0) for i in range(n)]\n",
    "\n",
    "personal_best_arr = particles_arr.copy()\n",
    "\n"
   ]
  },
  {
   "cell_type": "code",
   "execution_count": 4,
   "metadata": {},
   "outputs": [],
   "source": [
    "def function(x, y):\n",
    "    return 160-15*pow(math.sin(2*x), 2)-(x-2)**2\n"
   ]
  },
  {
   "cell_type": "code",
   "execution_count": 5,
   "metadata": {},
   "outputs": [],
   "source": [
    "def update_personal_best(particles_arr, personal_best_arr):\n",
    "    for particle in particles_arr:\n",
    "        new_val = function(particle[0], particle[1])\n",
    "\n",
    "        if new_val > function(personal_best_arr[particles_arr.index(particle)][0], personal_best_arr[particles_arr.index(particle)][1]):\n",
    "            personal_best_arr[particles_arr.index(particle)] = particle\n",
    "\n",
    "    return personal_best_arr\n"
   ]
  },
  {
   "cell_type": "code",
   "execution_count": 6,
   "metadata": {},
   "outputs": [],
   "source": [
    "def update_global_best(personal_best_arr, global_best):\n",
    "    for particle in personal_best_arr:\n",
    "        new_val = function(particle[0], particle[1])\n",
    "\n",
    "        if new_val > function(global_best[0], global_best[1]):\n",
    "            global_best = particle\n",
    "\n",
    "    return global_best\n"
   ]
  },
  {
   "cell_type": "code",
   "execution_count": 7,
   "metadata": {},
   "outputs": [],
   "source": [
    "def update_velocity(Vx, Vy, particles_arr, personal_best_arr, global_best):\n",
    "    for i in range(n):\n",
    "        Vx[i] = w*Vx[i]+c1*r1[i]*(personal_best_arr[i][0]-particles_arr[i]\n",
    "                                  [0])+c2*r2[i]*(global_best[0]-particles_arr[i][0])\n",
    "        Vy[i] = w*Vy[i]+c1*r1[i]*(personal_best_arr[i][1]-particles_arr[i]\n",
    "                                  [1])+c2*r2[i]*(global_best[1]-particles_arr[i][1])\n",
    "\n",
    "        global VxMax\n",
    "\n",
    "        VxMax = max(VxMax, Vx[i])\n",
    "        if(Vx[i] > 20):\n",
    "            Vx[i] = 20\n",
    "    return Vx, Vy"
   ]
  },
  {
   "cell_type": "code",
   "execution_count": 8,
   "metadata": {},
   "outputs": [],
   "source": [
    "def update_cordinated(particles_arr, Vx, Vy):\n",
    "    for i in range(n):\n",
    "        particles_arr[i] = (particles_arr[i][0]+Vx[i],\n",
    "                            particles_arr[i][1]+Vy[i])\n",
    "    return particles_arr\n"
   ]
  },
  {
   "cell_type": "code",
   "execution_count": 11,
   "metadata": {},
   "outputs": [
    {
     "name": "stdout",
     "output_type": "stream",
     "text": [
      "Global best:  (1.5778333672058216, 0.0)\n",
      "Max value:  159.8188043340633\n"
     ]
    },
    {
     "data": {
      "image/png": "[encoded data removed]",
      "text/plain": [
       "<Figure size 432x288 with 1 Axes>"
      ]
     },
     "metadata": {
      "needs_background": "light"
     },
     "output_type": "display_data"
    }
   ],
   "source": [
    "if __name__ == \"__main__\":\n",
    "\n",
    "    x = np.linspace(-10, 10, 1000)\n",
    "    y = np.vectorize(function)(x, 0)\n",
    "\n",
    "    for i in range(100):\n",
    "\n",
    "        personal_best_arr = update_personal_best(\n",
    "            particles_arr, personal_best_arr)\n",
    "        global_best = update_global_best(personal_best_arr, global_best)\n",
    "        Vx, Vy = update_velocity(\n",
    "            Vx, Vy, particles_arr, personal_best_arr, global_best)\n",
    "        particles_arr = update_cordinated(particles_arr, Vx, Vy)\n",
    "\n",
    "        particles_arr_x = [x for (x, _) in particles_arr]\n",
    "        particles_arr_y = [y for (_, y) in particles_arr]\n",
    "\n",
    "    print(\"Global best: \", global_best)\n",
    "    max_val = function(global_best[0], global_best[1])\n",
    "    print(\"Max value: \", max_val)\n",
    "    plt.plot(x, y, color='black')\n",
    "    plt.plot(particles_arr_x, particles_arr_y, 'bo')\n",
    "\n",
    "    plt.show()\n"
   ]
  }
 ],
 "metadata": {
  "kernelspec": {
   "display_name": "Python 3.9.5 64-bit",
   "language": "python",
   "name": "python3"
  },
  "language_info": {
   "codemirror_mode": {
    "name": "ipython",
    "version": 3
   },
   "file_extension": ".py",
   "mimetype": "text/x-python",
   "name": "python",
   "nbconvert_exporter": "python",
   "pygments_lexer": "ipython3",
   "version": "3.9.5"
  },
  "orig_nbformat": 4,
  "vscode": {
   "interpreter": {
    "hash": "ac8b49c01ab7af0b357bca5a8ac24075f319d93591e15d55d4394ceee65b2dae"
   }
  }
 },
 "nbformat": 4,
 "nbformat_minor": 2
}
