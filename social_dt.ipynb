{
 "cells": [
  {
   "cell_type": "code",
   "execution_count": 1,
   "metadata": {},
   "outputs": [],
   "source": [
    "import numpy as np\n",
    "import pandas as pd\n",
    "import matplotlib.pyplot as plt\n"
   ]
  },
  {
   "cell_type": "code",
   "execution_count": 2,
   "metadata": {},
   "outputs": [],
   "source": [
    "w=0.8 #<1\n",
    "c1=2\n",
    "c2=2\n",
    "n=25\n",
    "r1=np.random.uniform(0.3,0.7,n)\n",
    "r2=np.random.uniform(0.3,0.7,n)"
   ]
  },
  {
   "cell_type": "code",
   "execution_count": 5,
   "metadata": {},
   "outputs": [
    {
     "name": "stdout",
     "output_type": "stream",
     "text": [
      "[(0, 0), (0, 1), (0, 2), (0, 3), (0, 4), (1, 0), (1, 1), (1, 2), (1, 3), (1, 4), (2, 0), (2, 1), (2, 2), (2, 3), (2, 4), (3, 0), (3, 1), (3, 2), (3, 3), (3, 4), (4, 0), (4, 1), (4, 2), (4, 3), (4, 4)]\n",
      "\n",
      "[(0, 0), (0, 1), (0, 2), (0, 3), (0, 4), (1, 0), (1, 1), (1, 2), (1, 3), (1, 4), (2, 0), (2, 1), (2, 2), (2, 3), (2, 4), (3, 0), (3, 1), (3, 2), (3, 3), (3, 4), (4, 0), (4, 1), (4, 2), (4, 3), (4, 4)]\n"
     ]
    }
   ],
   "source": [
    "Vx=[0]*n\n",
    "Vy=[0]*n\n",
    "\n",
    "personal_best_arr=[]\n",
    "global_best=(4,4)\n",
    "\n",
    "particles_arr=[(i,j) for i in range(5) for j in range(5)]\n",
    "\n",
    "personal_best_arr = particles_arr.copy()\n",
    "\n",
    "print(particles_arr)\n",
    "print()\n",
    "print(personal_best_arr)"
   ]
  },
  {
   "cell_type": "code",
   "execution_count": null,
   "metadata": {},
   "outputs": [],
   "source": [
    "def function(x, y):\n",
    "    return (x-20)**2+(y-20)**2\n"
   ]
  },
  {
   "cell_type": "code",
   "execution_count": null,
   "metadata": {},
   "outputs": [],
   "source": [
    "def update_personal_best(particles_arr, personal_best_arr):\n",
    "    for particle in particles_arr:\n",
    "        new_val = function(particle[0], particle[1])\n",
    "\n",
    "        personal_best_particle = personal_best_arr[particles_arr.index(\n",
    "            particle)]\n",
    "\n",
    "        if new_val < function(personal_best_particle[0], personal_best_particle[1]):\n",
    "            personal_best_arr[particles_arr.index(particle)] = particle\n",
    "\n",
    "    return personal_best_arr\n"
   ]
  },
  {
   "cell_type": "code",
   "execution_count": null,
   "metadata": {},
   "outputs": [],
   "source": [
    "def update_global_best(personal_best_arr, global_best):\n",
    "    for particle in personal_best_arr:\n",
    "        new_val = function(particle[0], particle[1])\n",
    "\n",
    "        if new_val < function(global_best[0], global_best[1]):\n",
    "            global_best = particle\n",
    "\n",
    "    return global_best"
   ]
  },
  {
   "cell_type": "code",
   "execution_count": null,
   "metadata": {},
   "outputs": [],
   "source": [
    "def update_velocity(Vx,Vy,particles_arr,personal_best_arr,global_best):\n",
    "    for i in range(n):\n",
    "        Vx[i]=w*Vx[i]+c1*r1[i]*(personal_best_arr[i][0]-particles_arr[i][0])+c2*r2[i]*(global_best[0]-particles_arr[i][0])\n",
    "        Vy[i]=w*Vy[i]+c1*r1[i]*(personal_best_arr[i][1]-particles_arr[i][1])+c2*r2[i]*(global_best[1]-particles_arr[i][1])\n",
    "    return Vx,Vy"
   ]
  },
  {
   "cell_type": "code",
   "execution_count": null,
   "metadata": {},
   "outputs": [],
   "source": [
    "def update_cordinated(particles_arr,Vx,Vy):\n",
    "    for i in range(n):\n",
    "        particles_arr[i]=(particles_arr[i][0]+Vx[i],particles_arr[i][1]+Vy[i])\n",
    "    return particles_arr"
   ]
  },
  {
   "cell_type": "code",
   "execution_count": null,
   "metadata": {},
   "outputs": [],
   "source": [
    "if __name__ == \"__main__\":\n",
    "\n",
    "    plt.show()\n",
    "\n",
    "    for i in range(100):\n",
    "\n",
    "        personal_best_arr = update_personal_best(\n",
    "            particles_arr, personal_best_arr)\n",
    "        global_best = update_global_best(personal_best_arr, global_best)\n",
    "        Vx, Vy = update_velocity(\n",
    "            Vx, Vy, particles_arr, personal_best_arr, global_best)\n",
    "        particles_arr = update_cordinated(particles_arr, Vx, Vy)\n",
    "\n",
    "        particles_arr_x=[x for (x,_) in particles_arr]\n",
    "        particles_arr_y=[y for (_,y) in particles_arr]\n",
    "\n",
    "\n",
    "        plt.xlim(00,50)\n",
    "        plt.ylim(00,50)\n",
    "\n",
    "        plt.plot(particles_arr_x,particles_arr_y,'bo')\n",
    "\n",
    "        plt.draw()\n",
    "        plt.pause(0.001)\n",
    "        plt.clf()\n"
   ]
  }
 ],
 "metadata": {
  "kernelspec": {
   "display_name": "Python 3.9.5 64-bit",
   "language": "python",
   "name": "python3"
  },
  "language_info": {
   "codemirror_mode": {
    "name": "ipython",
    "version": 3
   },
   "file_extension": ".py",
   "mimetype": "text/x-python",
   "name": "python",
   "nbconvert_exporter": "python",
   "pygments_lexer": "ipython3",
   "version": "3.9.5"
  },
  "orig_nbformat": 4,
  "vscode": {
   "interpreter": {
    "hash": "ac8b49c01ab7af0b357bca5a8ac24075f319d93591e15d55d4394ceee65b2dae"
   }
  }
 },
 "nbformat": 4,
 "nbformat_minor": 2
}
